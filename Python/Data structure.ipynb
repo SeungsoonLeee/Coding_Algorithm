{
 "cells": [
  {
   "cell_type": "markdown",
   "metadata": {},
   "source": [
    "# [자료구조]"
   ]
  },
  {
   "cell_type": "markdown",
   "metadata": {},
   "source": [
    "## 1. 연결 리스트(Linked List)\n",
    "    데이터와 다음 노드를 가리키는 링크로 이루어진 자료구조"
   ]
  },
  {
   "cell_type": "markdown",
   "metadata": {},
   "source": [
    "### 1.1 Node와 Link"
   ]
  },
  {
   "cell_type": "markdown",
   "metadata": {},
   "source": [
    "Node : 데이터를 저장하는 data와 링크를 저장하는 next를 멤버로 가지는 클래스"
   ]
  },
  {
   "cell_type": "code",
   "execution_count": 1,
   "metadata": {},
   "outputs": [],
   "source": [
    "class Node:\n",
    "    def __init__(self, data, next=None):\n",
    "        self.data = data\n",
    "        self.next = next"
   ]
  },
  {
   "cell_type": "markdown",
   "metadata": {},
   "source": [
    "### 1.2 연결 리스트 초기화"
   ]
  },
  {
   "cell_type": "markdown",
   "metadata": {},
   "source": [
    "node_A, B, C를 생성하고 A->B, B->C로 링크"
   ]
  },
  {
   "cell_type": "code",
   "execution_count": 2,
   "metadata": {},
   "outputs": [],
   "source": [
    "node_A = Node(\"A\")\n",
    "node_B = Node(\"B\")\n",
    "node_C = Node(\"C\")\n",
    "node_D = Node(\"D\")\n",
    "node_A.next = node_B\n",
    "node_B.next = node_C\n",
    "node_C.next = node_D"
   ]
  },
  {
   "cell_type": "markdown",
   "metadata": {},
   "source": [
    "### 1.3 연결 리스트 출력"
   ]
  },
  {
   "cell_type": "markdown",
   "metadata": {},
   "source": [
    "node에 node_A를 대입하고 while문을 도는 동안 연결된 모든 node들의 data를 출력한다."
   ]
  },
  {
   "cell_type": "code",
   "execution_count": 3,
   "metadata": {
    "scrolled": true
   },
   "outputs": [
    {
     "name": "stdout",
     "output_type": "stream",
     "text": [
      "A\n",
      "B\n",
      "C\n",
      "D\n"
     ]
    }
   ],
   "source": [
    "node = node_A\n",
    "while node:\n",
    "    print(node.data)\n",
    "    node = node.next"
   ]
  },
  {
   "cell_type": "markdown",
   "metadata": {},
   "source": [
    "### 1.4 연결 리스트의 삽입과 삭제\n",
    "예를 들어 A, B, D 순서로 연결된 연결 리스트가 있다고 하자.\n",
    "- 삽입 : B와 D사이에 C라는 data를 삽입하기 위해서는 C가 D를 가리키도록 하고 B가 C를 가리키도록 하면, A, B, C, D의 연결 리스트가 된다.\n",
    "- 삭제 : 여기에 C를 삭제하고 B가 D를 가리키도록 하면, 다시 A, B, D의 연결 리스트가 된다."
   ]
  },
  {
   "cell_type": "code",
   "execution_count": 4,
   "metadata": {},
   "outputs": [],
   "source": [
    "def init_LinkedList(): # 연결 리스트 초기화\n",
    "    global node_A # 삽임과 삭제 메소드에서 활용하기 위해 global 변수로 선언\n",
    "    node_A = Node(\"A\")\n",
    "    node_B = Node(\"B\")\n",
    "    node_D = Node(\"D\")\n",
    "    node_A.next = node_B\n",
    "    node_B.next = node_D\n",
    "\n",
    "def delete_node(del_data): # 연결 리스트 삭제\n",
    "    global node_A\n",
    "    pre_node = node_A\n",
    "    next_node = pre_node.next\n",
    "    \n",
    "    if pre_node.data == del_data: # 첫번째 노드인 node_A를 지우는 경우를 체크\n",
    "        node_A = next_node\n",
    "        del pre_node\n",
    "        return\n",
    "    \n",
    "    while next_node:\n",
    "        if next_node.data == del_data: # 다음 노드부터 삭제핳 data를 가지 node를 체크\n",
    "            pre_node.next = next_node.next\n",
    "            del next_node\n",
    "            break\n",
    "        pre_node = next_node\n",
    "        next_node = next_node.next\n",
    "\n",
    "def insert_node(data): # 연결 리스트 추가(마지막 node보다 값이 큰 data가 들어오는 경우는 고려하지 않는다.)\n",
    "    global node_A\n",
    "    new_node = Node(data)\n",
    "    pre_node = node_A # 추가될 data의 전 노드 파악을 위한 변수 선언\n",
    "    next_node = node_A.next # 추가될 data의 후 노드 파악을 위한 변수 선언\n",
    "    while next_node.data <= data: \n",
    "        pre_node = next_node\n",
    "        next_node = next_node.next\n",
    "    new_node.next = next_node\n",
    "    pre_node.next = new_node\n",
    "    \n",
    "def print_list():\n",
    "    global node_A\n",
    "    node = node_A\n",
    "    while node:\n",
    "        print(node.data, sep=\" \")\n",
    "        node = node.next\n",
    "    print()"
   ]
  },
  {
   "cell_type": "markdown",
   "metadata": {},
   "source": [
    "A, B, D 노드를 생성한 수 C 노드를 추가하고 B노드를 삭제해보자."
   ]
  },
  {
   "cell_type": "code",
   "execution_count": 5,
   "metadata": {},
   "outputs": [
    {
     "name": "stdout",
     "output_type": "stream",
     "text": [
      "A\n",
      "B\n",
      "C\n",
      "D\n",
      "\n",
      "A\n",
      "C\n",
      "D\n",
      "\n"
     ]
    }
   ],
   "source": [
    "init_LinkedList()\n",
    "insert_node(\"C\")\n",
    "print_list()\n",
    "delete_node(\"B\")\n",
    "print_list()"
   ]
  },
  {
   "cell_type": "markdown",
   "metadata": {},
   "source": [
    "## 2. 이중 연결 리스트(Doubly Linked List)\n",
    "    연결 리스트에서 다음 노드 뿐만 아니라 이전 노드까지 링크로 이루어진 자료구조"
   ]
  },
  {
   "cell_type": "code",
   "execution_count": 8,
   "metadata": {},
   "outputs": [],
   "source": [
    "class D_node:\n",
    "    def __init__(self, data, prev=None, next=None):\n",
    "        self.data = data\n",
    "        self.prev = prev\n",
    "        self.next = next"
   ]
  },
  {
   "cell_type": "markdown",
   "metadata": {},
   "source": [
    "### 2.1 이중 연결 리스트 초기화, 출력, 삽입, 삭제 (추후 코드 추가 예정)\n",
    "기본적인 개념은 연결 리스트와 동일하며, 이전 노드에 대해서만 신경을 써 주면 된다."
   ]
  }
 ],
 "metadata": {
  "kernelspec": {
   "display_name": "Python 3",
   "language": "python",
   "name": "python3"
  },
  "language_info": {
   "codemirror_mode": {
    "name": "ipython",
    "version": 3
   },
   "file_extension": ".py",
   "mimetype": "text/x-python",
   "name": "python",
   "nbconvert_exporter": "python",
   "pygments_lexer": "ipython3",
   "version": "3.7.3"
  }
 },
 "nbformat": 4,
 "nbformat_minor": 2
}
