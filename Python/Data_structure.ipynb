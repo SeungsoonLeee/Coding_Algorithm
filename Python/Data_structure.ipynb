{
 "cells": [
  {
   "cell_type": "markdown",
   "metadata": {},
   "source": [
    "# [자료구조]"
   ]
  },
  {
   "cell_type": "markdown",
   "metadata": {},
   "source": [
    "## 1. 연결 리스트(Linked List)\n",
    "데이터와 다음 노드를 가리키는 링크로 이루어진 자료구조"
   ]
  },
  {
   "cell_type": "markdown",
   "metadata": {},
   "source": [
    "### 1.1 연결 리스트의 Node와 Link\n",
    "Node : 데이터를 저장하는 data와 링크를 저장하는 next를 멤버로 가지는 클래스"
   ]
  },
  {
   "cell_type": "code",
   "execution_count": null,
   "metadata": {},
   "outputs": [],
   "source": [
    "class Node:\n",
    "    def __init__(self, data, next=None):\n",
    "        self.data = data\n",
    "        self.next = next"
   ]
  },
  {
   "cell_type": "markdown",
   "metadata": {},
   "source": [
    "### 1.2 연결 리스트 초기화\n",
    "node_A, B, C를 생성하고 A->B, B->C로 링크"
   ]
  },
  {
   "cell_type": "code",
   "execution_count": null,
   "metadata": {},
   "outputs": [],
   "source": [
    "node_A = Node(\"A\")\n",
    "node_B = Node(\"B\")\n",
    "node_C = Node(\"C\")\n",
    "node_D = Node(\"D\")\n",
    "node_A.next = node_B\n",
    "node_B.next = node_C\n",
    "node_C.next = node_D"
   ]
  },
  {
   "cell_type": "markdown",
   "metadata": {},
   "source": [
    "### 1.3 연결 리스트 출력\n",
    "node에 node_A를 대입하고 while문을 도는 동안 연결된 모든 node들의 data를 출력한다."
   ]
  },
  {
   "cell_type": "code",
   "execution_count": null,
   "metadata": {},
   "outputs": [],
   "source": [
    "node = node_A\n",
    "while node:\n",
    "    print(node.data)\n",
    "    node = node.next"
   ]
  },
  {
   "cell_type": "markdown",
   "metadata": {},
   "source": [
    "### 1.4 연결 리스트의 삽입과 삭제\n",
    "예를 들어 A, B, D 순서로 연결된 연결 리스트가 있다고 하자.\n",
    "- 삽입 : B와 D사이에 C라는 data를 삽입하기 위해서는 C가 D를 가리키도록 하고 B가 C를 가리키도록 하면, A, B, C, D의 연결 리스트가 된다.\n",
    "- 삭제 : 여기에 C를 삭제하고 B가 D를 가리키도록 하면, 다시 A, B, D의 연결 리스트가 된다."
   ]
  },
  {
   "cell_type": "code",
   "execution_count": null,
   "metadata": {},
   "outputs": [],
   "source": [
    "def init_LinkedList(): # 연결 리스트 초기화\n",
    "    global node_A # 삽임과 삭제 메소드에서 활용하기 위해 global 변수로 선언\n",
    "    node_A = Node(\"A\")\n",
    "    node_B = Node(\"B\")\n",
    "    node_D = Node(\"D\")\n",
    "    node_A.next = node_B\n",
    "    node_B.next = node_D\n",
    "\n",
    "def delete_node(del_data): # 연결 리스트 삭제\n",
    "    global node_A\n",
    "    pre_node = node_A\n",
    "    next_node = pre_node.next\n",
    "    \n",
    "    if pre_node.data == del_data: # 첫번째 노드인 node_A를 지우는 경우를 체크\n",
    "        node_A = next_node\n",
    "        del pre_node\n",
    "        return\n",
    "    \n",
    "    while next_node:\n",
    "        if next_node.data == del_data: # 다음 노드부터 삭제핳 data를 가지 node를 체크\n",
    "            pre_node.next = next_node.next\n",
    "            del next_node\n",
    "            break\n",
    "        pre_node = next_node\n",
    "        next_node = next_node.next\n",
    "\n",
    "def insert_node(data): # 연결 리스트 추가(마지막 node보다 값이 큰 data가 들어오는 경우는 고려하지 않는다.)\n",
    "    global node_A\n",
    "    new_node = Node(data)\n",
    "    pre_node = node_A # 추가될 data의 전 노드 파악을 위한 변수 선언\n",
    "    next_node = node_A.next # 추가될 data의 후 노드 파악을 위한 변수 선언\n",
    "    while next_node.data <= data: \n",
    "        pre_node = next_node\n",
    "        next_node = next_node.next\n",
    "    new_node.next = next_node\n",
    "    pre_node.next = new_node\n",
    "    \n",
    "def print_list():\n",
    "    global node_A\n",
    "    node = node_A\n",
    "    while node:\n",
    "        print(node.data, sep=\" \")\n",
    "        node = node.next\n",
    "    print()"
   ]
  },
  {
   "cell_type": "markdown",
   "metadata": {},
   "source": [
    "A, B, D 노드를 생성한 수 C 노드를 추가하고 B노드를 삭제해보자."
   ]
  },
  {
   "cell_type": "code",
   "execution_count": null,
   "metadata": {},
   "outputs": [],
   "source": [
    "init_LinkedList()\n",
    "insert_node(\"C\")\n",
    "print_list()\n",
    "delete_node(\"B\")\n",
    "print_list()"
   ]
  },
  {
   "cell_type": "markdown",
   "metadata": {},
   "source": [
    "###  1.5 이중 연결 리스트(Doubly Linked List)\n",
    "연결 리스트에서 다음 노드 뿐만 아니라 이전 노드까지 링크로 이루어진 자료구조"
   ]
  },
  {
   "cell_type": "code",
   "execution_count": null,
   "metadata": {},
   "outputs": [],
   "source": [
    "class D_node:\n",
    "    def __init__(self, data, prev=None, next=None):\n",
    "        self.data = data\n",
    "        self.prev = prev\n",
    "        self.next = next"
   ]
  },
  {
   "cell_type": "markdown",
   "metadata": {},
   "source": [
    "### 1.6 이중 연결 리스트 초기화, 출력, 삽입, 삭제 (--추후 코드 추가 예정)\n",
    "기본적인 개념은 연결 리스트와 동일하며, 이전 노드에 대한 처리만 신경을 써 주면 된다."
   ]
  },
  {
   "attachments": {},
   "cell_type": "markdown",
   "metadata": {},
   "source": [
    "## 3. 스택(Stack)\n",
    "입력과 출력이 같은 방향에서 이루어지는 자료구조로 먼저 입력한 값이 나중에 나오는 FILO(Fisrt In Last Out) 또는 LIFO(Last In First Out) 방식이다."
   ]
  },
  {
   "cell_type": "markdown",
   "metadata": {},
   "source": [
    "### 3.1 스택의 구현\n",
    "- push : 스택에 data를 삽입한다.\n",
    "- pop : 스택의 가장 위의 data를 삭제한다.\n",
    "- top : 스택의 가장 위의 data를 반환한다."
   ]
  },
  {
   "cell_type": "code",
   "execution_count": null,
   "metadata": {},
   "outputs": [],
   "source": [
    "# 파이썬에서는 별다른 프로그래밍 없이 스택의 기능을 사용할 수 있도록 제공하고 있다.\n",
    "# 따라서 push, pop, top의 의미만 알 수 있도록 메서드를 구현해 보기로 한다.\n",
    "class Stack(list):\n",
    "    push = list.append\n",
    "    pop = list.pop\n",
    "    def top(self):\n",
    "        return self[-1]\n",
    "\n",
    "stack = Stack() # 리스트형으로 변수 선언\n",
    "stack.push(1)\n",
    "stack.push(2)\n",
    "stack.push(3)\n",
    "print(\"현재 스택 :\", stack)\n",
    "print(\"현재 스택의 top : \", stack.top()) \n",
    "stack.pop()\n",
    "print(\"pop후 스택의 top : \", stack.top())"
   ]
  },
  {
   "cell_type": "markdown",
   "metadata": {},
   "source": [
    "### 3.2 스택을 활용한 계산기 (--추가 예정)"
   ]
  },
  {
   "cell_type": "markdown",
   "metadata": {},
   "source": [
    "## 4. 큐(Queue)\n",
    "스택과 비슷하나 입력 방향과 출력 방향이 반대인 자료구조로 먼저 입력한 값이 먼저 나오는 FIFO(First In First Out) 또는 LILO(Last In Last Out) 방식이다."
   ]
  },
  {
   "cell_type": "markdown",
   "metadata": {},
   "source": [
    "### 4.1 큐의 구현\n",
    "- enqueue : 큐에 data를 삽입한다.\n",
    "- dequeue : 큐의 가장 앞의 data를 삭제한다.\n",
    "- front : 큐의 가장 앞의 data를 반환한다."
   ]
  },
  {
   "cell_type": "code",
   "execution_count": null,
   "metadata": {},
   "outputs": [],
   "source": [
    "# 큐 역시 별다른 프로그래밍 없이 기능을 사용할 수 있으므로\n",
    "# enqueue, dequeue, front 의 의미만 알 수 있도록 메서드를 구현해 보기로 한다.\n",
    "class Queue(list):\n",
    "    enqueue = list.append\n",
    "    def dequeue(self):\n",
    "        self.pop(0)\n",
    "    def front(self):\n",
    "        return self[0]\n",
    "\n",
    "queue = Queue() # 리스트형으로 변수 선언\n",
    "queue.enqueue(1)\n",
    "queue.enqueue(2)\n",
    "queue.enqueue(3)\n",
    "print(\"현재 큐 :\", queue)\n",
    "print(\"현재 큐의 front : \", queue.front()) \n",
    "queue.dequeue()\n",
    "print(\"dequeue후 큐의 front : \", queue.front())"
   ]
  },
  {
   "cell_type": "markdown",
   "metadata": {},
   "source": [
    "### 4.2 원형 큐(Circular Queue) (--추가 예정)\n",
    "리스트의 첫번째와 마지막이 이어져 있는 원 형태의 큐 자료구조로 리스트의 특정 크기를 벗어나게 data를 삽입할 때 다시 첫번째 위치부터 삽입하도록 하여 공간의 효율성을 높일 수 있다. 리스트의 크기는 필요한 data의 수보다 커야함에 주의한다."
   ]
  },
  {
   "cell_type": "markdown",
   "metadata": {},
   "source": [
    "## 5. 트리(Tree)\n",
    "    설명"
   ]
  },
  {
   "cell_type": "markdown",
   "metadata": {},
   "source": [
    "## 6. 그래프(graph)\n",
    "    설명"
   ]
  },
  {
   "cell_type": "markdown",
   "metadata": {},
   "source": [
    "\n"
   ]
  }
 ],
 "metadata": {
  "kernelspec": {
   "display_name": "Python 3",
   "language": "python",
   "name": "python3"
  },
  "language_info": {
   "codemirror_mode": {
    "name": "ipython",
    "version": 3
   },
   "file_extension": ".py",
   "mimetype": "text/x-python",
   "name": "python",
   "nbconvert_exporter": "python",
   "pygments_lexer": "ipython3",
   "version": "3.7.3"
  }
 },
 "nbformat": 4,
 "nbformat_minor": 2
}
